{
 "cells": [
  {
   "cell_type": "markdown",
   "id": "earned-canada",
   "metadata": {},
   "source": [
    "# 積分ステップ0.01で全てシミュレーションして、データを生成する"
   ]
  },
  {
   "cell_type": "code",
   "execution_count": 3,
   "id": "elementary-virus",
   "metadata": {},
   "outputs": [],
   "source": [
    "import pickle\n",
    "import numpy as np\n",
    "import matplotlib.pyplot as plt\n",
    "import seaborn as sns\n",
    "\n",
    "sns.set_theme()\n",
    "plt.rcParams[\"font.family\"] = 'Hiragino sans'\n",
    "sns.set(font=['Hiragino sans'])"
   ]
  },
  {
   "cell_type": "code",
   "execution_count": 2,
   "id": "exotic-sending",
   "metadata": {},
   "outputs": [],
   "source": [
    "def RungeKutta4(initial, time, model, F):\n",
    "    \"\"\"\n",
    "    Parameters\n",
    "    ----------\n",
    "    F : \n",
    "        Forcing constant, variable used in L96\n",
    "    \"\"\"\n",
    "    dt = time[1] - time[0]\n",
    "    states = [initial]\n",
    "    x = initial\n",
    "    for t in time[:-1]:\n",
    "        k1 = model(x, F)\n",
    "        x1 = x + k1 * dt/2\n",
    "        k2 = model(x1, F)\n",
    "        x2 = x + k2 * dt/2\n",
    "        k3 = model(x2, F)\n",
    "        x3 = x + k3 * dt\n",
    "        k4 = model(x3, F)\n",
    "        x = x + (k1 + 2*k2 + 2*k3 + k4) * dt / 6\n",
    "        states.append(x)\n",
    "    states = np.stack(states)\n",
    "    return states\n",
    "\n",
    "def L96(x, F):\n",
    "    \"\"\"\n",
    "    Lorenz 96 model with constant forcing.\n",
    "    Cited by \"https://en.wikipedia.org/wiki/Lorenz_96_model\"\n",
    "    \n",
    "    Parameters\n",
    "    ----------\n",
    "    x : \n",
    "        variables\n",
    "    F :\n",
    "       Forcing constant \n",
    "    N : int\n",
    "        number of sites\n",
    "    \"\"\"\n",
    "    N = 40\n",
    "    # Setting up vector\n",
    "    d = np.zeros(N)\n",
    "    # Loops over indices (with operations and Python underflow indexing handling edge cases)\n",
    "    for i in range(N):\n",
    "        d[i] = (x[(i + 1) % N] - x[i - 2]) * x[i - 1] - x[i] + F\n",
    "    return d"
   ]
  },
  {
   "cell_type": "markdown",
   "id": "false-behavior",
   "metadata": {},
   "source": [
    "## RK4シミュレーション"
   ]
  },
  {
   "cell_type": "code",
   "execution_count": 3,
   "id": "alpha-maryland",
   "metadata": {},
   "outputs": [],
   "source": [
    "\"\"\"\n",
    "観測地点: N=40\n",
    "外力: F=8.0\n",
    "外力変化率: ratio = 0.001\n",
    "年数: 3年\n",
    "time step: 積分間隔。0.2stepが１日　← 可変\n",
    "total step: 計算式 - 0.2(/d) * 365(d/y) * year\n",
    "\"\"\"\n",
    "N = 40\n",
    "F = 8.0\n",
    "ratio = 0.001\n",
    "year = 2\n",
    "time_step = 0.01\n",
    "total_step = 0.2 * 365 * year\n",
    "time = np.arange(0.0, total_step + time_step, time_step, dtype=float)\n",
    "\n",
    "x = np.full(N, F, dtype=float)\n",
    "x[19] += F * ratio\n",
    "dat = RungeKutta4(x, time, L96, F=F)"
   ]
  },
  {
   "cell_type": "code",
   "execution_count": 4,
   "id": "painful-annex",
   "metadata": {},
   "outputs": [
    {
     "data": {
      "text/plain": [
       "(14601, 40)"
      ]
     },
     "execution_count": 4,
     "metadata": {},
     "output_type": "execute_result"
    }
   ],
   "source": [
    "dat.shape"
   ]
  },
  {
   "cell_type": "code",
   "execution_count": 5,
   "id": "everyday-craft",
   "metadata": {},
   "outputs": [],
   "source": [
    "with open(\"RK4_GeneratedData.pkl\", \"wb\") as f:\n",
    "    pickle.dump(dat, f)"
   ]
  },
  {
   "cell_type": "markdown",
   "id": "preceding-auction",
   "metadata": {},
   "source": [
    "## noise項(pickle保存)"
   ]
  },
  {
   "cell_type": "code",
   "execution_count": 6,
   "id": "proof-polls",
   "metadata": {},
   "outputs": [],
   "source": [
    "from numpy.random import Generator, MT19937"
   ]
  },
  {
   "cell_type": "code",
   "execution_count": 7,
   "id": "phantom-parcel",
   "metadata": {},
   "outputs": [
    {
     "name": "stdout",
     "output_type": "stream",
     "text": [
      "(14601, 40)\n"
     ]
    }
   ],
   "source": [
    "seed = 46\n",
    "rg = Generator(MT19937(seed))\n",
    "# ノイズとして加える正規分布\n",
    "rand = rg.standard_normal(dat.shape)\n",
    "print(dat.shape)"
   ]
  },
  {
   "cell_type": "code",
   "execution_count": 8,
   "id": "hybrid-default",
   "metadata": {},
   "outputs": [],
   "source": [
    "with open(\"NormalNoise.pkl\", \"wb\") as f:\n",
    "    pickle.dump(rand, f)"
   ]
  },
  {
   "cell_type": "markdown",
   "id": "thrown-township",
   "metadata": {},
   "source": [
    "# test"
   ]
  },
  {
   "cell_type": "code",
   "execution_count": 1,
   "id": "aggregate-physiology",
   "metadata": {},
   "outputs": [],
   "source": [
    "def L96(x, F):\n",
    "    \"\"\"\n",
    "    Lorenz 96 model with constant forcing.\n",
    "    Cited by \"https://en.wikipedia.org/wiki/Lorenz_96_model\"\n",
    "    \n",
    "    Parameters\n",
    "    ----------\n",
    "    x : \n",
    "        variables\n",
    "    N : int\n",
    "        number of sites\n",
    "    \"\"\"\n",
    "    # Setting up vector\n",
    "    x_ = np.zeros(x.shape)\n",
    "    N = len(x)\n",
    "    # Loops over indices (with operations and Python underflow indexing handling edge cases)\n",
    "    for i in range(N):\n",
    "        x_[i] = (x[(i + 1) % N] - x[i - 2]) * x[i - 1] - x[i] + F\n",
    "    return x_"
   ]
  },
  {
   "cell_type": "code",
   "execution_count": 4,
   "id": "vanilla-paragraph",
   "metadata": {},
   "outputs": [
    {
     "data": {
      "text/plain": [
       "array([3., 3., 3., 3., 3., 3., 3., 3., 3., 3., 3., 3., 3., 3., 3., 3., 3.,\n",
       "       3., 3., 3., 3., 3., 3., 3., 3., 3., 3., 3., 3., 3., 3., 3., 3., 3.,\n",
       "       3., 3., 3., 3., 3., 3.])"
      ]
     },
     "execution_count": 4,
     "metadata": {},
     "output_type": "execute_result"
    }
   ],
   "source": [
    "a = L96(np.ones(40)*5, 8)\n",
    "a"
   ]
  },
  {
   "cell_type": "code",
   "execution_count": 5,
   "id": "unauthorized-asset",
   "metadata": {},
   "outputs": [
    {
     "data": {
      "text/plain": [
       "array([8.   , 8.   , 8.   , 8.   , 8.   , 8.   , 8.   , 8.   , 8.   ,\n",
       "       8.   , 8.   , 8.   , 8.   , 8.   , 8.   , 8.   , 8.   , 8.   ,\n",
       "       8.   , 8.008, 8.   , 8.   , 8.   , 8.   , 8.   , 8.   , 8.   ,\n",
       "       8.   , 8.   , 8.   , 8.   , 8.   , 8.   , 8.   , 8.   , 8.   ,\n",
       "       8.   , 8.   , 8.   , 8.   ])"
      ]
     },
     "execution_count": 5,
     "metadata": {},
     "output_type": "execute_result"
    }
   ],
   "source": [
    "x = np.ones(40) * 8\n",
    "x[19] = x[19] * 1.001\n",
    "x"
   ]
  },
  {
   "cell_type": "code",
   "execution_count": null,
   "id": "minute-blank",
   "metadata": {},
   "outputs": [],
   "source": [
    "def RK4(fun, step, F):\n",
    "    \"\"\"\n",
    "    Parameters\n",
    "    ----------\n",
    "    F : \n",
    "        Forcing constant, variable used in L96\n",
    "    \"\"\"\n",
    "    dt = step\n",
    "    k1 = fun(x, F)\n",
    "    x1 = x + k1 * dt/2\n",
    "    k2 = fun(x1, F)\n",
    "    x2 = x + k2 * dt/2\n",
    "    k3 = fun(x2, F)\n",
    "    x3 = x + k3 * dt\n",
    "    k4 = fun(x3, F)\n",
    "    x = x + (k1 + 2*k2 + 2*k3 + k4) * dt / 6"
   ]
  }
 ],
 "metadata": {
  "kernelspec": {
   "display_name": "Python 3",
   "language": "python",
   "name": "python3"
  },
  "language_info": {
   "codemirror_mode": {
    "name": "ipython",
    "version": 3
   },
   "file_extension": ".py",
   "mimetype": "text/x-python",
   "name": "python",
   "nbconvert_exporter": "python",
   "pygments_lexer": "ipython3",
   "version": "3.9.0"
  }
 },
 "nbformat": 4,
 "nbformat_minor": 5
}
