{
 "cells": [
  {
   "cell_type": "code",
   "execution_count": 1,
   "id": "marked-montana",
   "metadata": {},
   "outputs": [],
   "source": [
    "import pickle\n",
    "import numpy as np\n",
    "import matplotlib.pyplot as plt\n",
    "import seaborn as sns\n",
    "\n",
    "sns.set_theme()\n",
    "plt.rcParams[\"font.family\"] = 'Hiragino sans'\n",
    "sns.set(font=['Hiragino sans'])"
   ]
  },
  {
   "cell_type": "code",
   "execution_count": 2,
   "id": "material-opportunity",
   "metadata": {},
   "outputs": [],
   "source": [
    "def RungeKutta4_spinup(initial, time, model, F):\n",
    "    \"\"\"\n",
    "    initial :\n",
    "        Initial state of x_i\n",
    "    time : \n",
    "        time \n",
    "    record_time : \n",
    "        記録する時間ステップ\n",
    "    model : \n",
    "        積分スキーム\n",
    "    F :\n",
    "        Forcing constant, to be used in Lorenz96\n",
    "    kwargs : \n",
    "        modelに渡す x 以外の変数を指定\n",
    "    \"\"\"\n",
    "    dt = time[1] - time[0]\n",
    "    states = [initial]\n",
    "    x = initial\n",
    "    for t in time[:-1]:\n",
    "        k1 = model(x, F)\n",
    "        x1 = x + k1 * dt/2\n",
    "        k2 = model(x1, F)\n",
    "        x2 = x + k2 * dt/2\n",
    "        k3 = model(x2, F)\n",
    "        x3 = x + k3 * dt\n",
    "        k4 = model(x3, F)\n",
    "        x = x + (k1 + 2*k2 + 2*k3 + k4) * dt / 6\n",
    "        states.append(x)\n",
    "#         if t % record_time_step == 0:\n",
    "#             states.append(x)\n",
    "    states = np.stack(states)\n",
    "    return states"
   ]
  },
  {
   "cell_type": "code",
   "execution_count": 3,
   "id": "peripheral-louis",
   "metadata": {},
   "outputs": [],
   "source": [
    "def L96(x, F):\n",
    "    \"\"\"\n",
    "    Lorenz 96 model with constant forcing.\n",
    "    Cited by \"https://en.wikipedia.org/wiki/Lorenz_96_model\"\n",
    "    \n",
    "    Parameters\n",
    "    ----------\n",
    "    x : \n",
    "        variables\n",
    "    F :\n",
    "       Forcing constant \n",
    "    N : int\n",
    "        number of sites\n",
    "    \"\"\"\n",
    "    N = len(x)\n",
    "    # Setting up vector\n",
    "    d = np.zeros(N)\n",
    "    # Loops over indices (with operations and Python underflow indexing handling edge cases)\n",
    "    for i in range(N):\n",
    "        d[i] = (x[(i + 1) % N] - x[i - 2]) * x[i - 1] - x[i] + F\n",
    "    return d"
   ]
  },
  {
   "cell_type": "markdown",
   "id": "growing-reproduction",
   "metadata": {},
   "source": [
    "# 積分"
   ]
  },
  {
   "cell_type": "code",
   "execution_count": 4,
   "id": "gorgeous-shelter",
   "metadata": {},
   "outputs": [],
   "source": [
    "N = 40\n",
    "F = 8.0\n",
    "year = 2\n",
    "# time step 0.2 = 1(d). 0.05 = 6(h)\n",
    "# 2年分 0.2(/d) * 365(d) * 2(y) = 146\n",
    "time = np.arange(0.0, 146.0, 0.05)\n",
    "\n",
    "# 初期値をわずかに変えたもの\n",
    "x1 = np.full(N, F)\n",
    "x1[19] += F * 0.001\n",
    "xs1 = RungeKutta4_spinup(x1, time, L96, F=F)\n",
    "\n",
    "# 後半1年分のdata\n",
    "dat = xs1[len(xs1)//2:]"
   ]
  },
  {
   "cell_type": "code",
   "execution_count": 5,
   "id": "parental-convergence",
   "metadata": {},
   "outputs": [
    {
     "data": {
      "text/plain": [
       "array([8.        , 8.        , 8.        , 8.        , 8.        ,\n",
       "       8.        , 8.        , 8.        , 8.        , 8.        ,\n",
       "       8.        , 8.        , 8.        , 8.        , 8.        ,\n",
       "       8.00000853, 8.00008107, 8.00060881, 8.00300985, 8.00736641,\n",
       "       7.99878125, 7.99700745, 8.00024329, 8.00060879, 7.99996585,\n",
       "       7.99991893, 8.        , 8.00000853, 8.        , 8.        ,\n",
       "       8.        , 8.        , 8.        , 8.        , 8.        ,\n",
       "       8.        , 8.        , 8.        , 8.        , 8.        ])"
      ]
     },
     "execution_count": 5,
     "metadata": {},
     "output_type": "execute_result"
    }
   ],
   "source": [
    "xs1[1]"
   ]
  },
  {
   "cell_type": "markdown",
   "id": "express-consideration",
   "metadata": {
    "heading_collapsed": "true",
    "tags": []
   },
   "source": [
    "## できているかの確認"
   ]
  },
  {
   "cell_type": "code",
   "execution_count": 6,
   "id": "bridal-settle",
   "metadata": {},
   "outputs": [],
   "source": [
    "from celluloid import Camera"
   ]
  },
  {
   "cell_type": "code",
   "execution_count": 7,
   "id": "infrared-provincial",
   "metadata": {},
   "outputs": [
    {
     "data": {
      "application/vnd.jupyter.widget-view+json": {
       "model_id": "e14a71eef42e46828d7fbb2915c68394",
       "version_major": 2,
       "version_minor": 0
      },
      "text/plain": [
       "Canvas(toolbar=Toolbar(toolitems=[('Home', 'Reset original view', 'home', 'home'), ('Back', 'Back to previous …"
      ]
     },
     "metadata": {},
     "output_type": "display_data"
    }
   ],
   "source": [
    "%matplotlib widget\n",
    "fig = plt.figure()\n",
    "camera = Camera(fig)\n",
    "for i in range(len(xs1)):\n",
    "    if i % 4 == 0:\n",
    "        t = plt.plot(xs1[i], color=\"green\")\n",
    "        plt.legend(t, [f'{i} unit time'], loc='upper left')\n",
    "        camera.snap()\n",
    "# animation = camera.animate(interval=300, blit=True)"
   ]
  },
  {
   "cell_type": "markdown",
   "id": "explicit-cemetery",
   "metadata": {},
   "source": [
    "# Mersenne Twister"
   ]
  },
  {
   "cell_type": "code",
   "execution_count": 8,
   "id": "least-laptop",
   "metadata": {},
   "outputs": [],
   "source": [
    "from numpy.random import Generator, MT19937\n",
    "%matplotlib inline"
   ]
  },
  {
   "cell_type": "code",
   "execution_count": 9,
   "id": "becoming-jerusalem",
   "metadata": {},
   "outputs": [],
   "source": [
    "seed = 46\n",
    "rg = Generator(MT19937(seed))\n",
    "rand = rg.standard_normal(dat.shape)"
   ]
  },
  {
   "cell_type": "markdown",
   "id": "historical-tokyo",
   "metadata": {
    "tags": []
   },
   "source": [
    "## MTの乱数確認"
   ]
  },
  {
   "cell_type": "code",
   "execution_count": 10,
   "id": "serial-relation",
   "metadata": {},
   "outputs": [
    {
     "data": {
      "text/plain": [
       "Text(0, 0.5, 'Count')"
      ]
     },
     "execution_count": 10,
     "metadata": {},
     "output_type": "execute_result"
    },
    {
     "data": {
      "image/png": "[encoded data removed]",
      "text/plain": [
       "<Figure size 864x576 with 1 Axes>"
      ]
     },
     "metadata": {
      "needs_background": "light"
     },
     "output_type": "display_data"
    }
   ],
   "source": [
    "rand_flat = rand.flatten()\n",
    "\n",
    "plt.figure(figsize=(12, 8))\n",
    "plot = sns.histplot(rand_flat, kde=True)\n",
    "plot.set_title(\"MTで生成した標準正規分布乱数\", fontsize=20)\n",
    "plot.set_ylabel(\"Count\", fontsize=15)\n",
    "\n",
    "# plot.figure.savefig(\"../../pics/MT_normal_dist.png\")"
   ]
  },
  {
   "cell_type": "markdown",
   "id": "ready-compiler",
   "metadata": {},
   "source": [
    "## 乱数追加"
   ]
  },
  {
   "cell_type": "code",
   "execution_count": 11,
   "id": "aboriginal-toner",
   "metadata": {},
   "outputs": [],
   "source": [
    "new_dat = dat + rand"
   ]
  },
  {
   "cell_type": "code",
   "execution_count": 12,
   "id": "curious-theme",
   "metadata": {},
   "outputs": [],
   "source": [
    "# with open('../observed_dat.pickle', 'wb') as f:\n",
    "#     pickle.dump(new_dat, f)"
   ]
  },
  {
   "cell_type": "code",
   "execution_count": 14,
   "id": "removed-facility",
   "metadata": {},
   "outputs": [],
   "source": [
    "with open('../observed_dat.pickle', 'rb') as f:\n",
    "    d = pickle.load(f)"
   ]
  },
  {
   "cell_type": "code",
   "execution_count": 17,
   "id": "taken-attachment",
   "metadata": {},
   "outputs": [
    {
     "data": {
      "text/plain": [
       "array([-0.07472501, -1.12753534,  0.41427903,  6.44095864,  2.77266813,\n",
       "       -5.71481379,  2.90758377,  3.56003307,  6.11792043,  0.97508391,\n",
       "        3.81111554,  6.31363435,  5.86246947,  4.05554332, -2.54630722,\n",
       "       -2.31876332,  3.66335631,  2.75038576,  0.70309898,  5.34526583,\n",
       "        5.84828614,  2.68757565,  5.32457802, -1.17060239,  3.15690907,\n",
       "        7.9670818 ,  7.88261679, -1.21537452,  1.03488549,  8.67724671,\n",
       "       -2.68126599,  3.16966431, -0.22678168,  6.53825022,  3.79300087,\n",
       "       -2.31418604,  2.64682744,  6.80289455, -4.52823104, -1.43735165])"
      ]
     },
     "execution_count": 17,
     "metadata": {},
     "output_type": "execute_result"
    }
   ],
   "source": [
    "d[0]"
   ]
  },
  {
   "cell_type": "code",
   "execution_count": null,
   "id": "focused-ceramic",
   "metadata": {},
   "outputs": [],
   "source": []
  }
 ],
 "metadata": {
  "kernelspec": {
   "display_name": "Python 3",
   "language": "python",
   "name": "python3"
  },
  "language_info": {
   "codemirror_mode": {
    "name": "ipython",
    "version": 3
   },
   "file_extension": ".py",
   "mimetype": "text/x-python",
   "name": "python",
   "nbconvert_exporter": "python",
   "pygments_lexer": "ipython3",
   "version": "3.9.0"
  }
 },
 "nbformat": 4,
 "nbformat_minor": 5
}
