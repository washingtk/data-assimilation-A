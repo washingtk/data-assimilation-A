{
 "cells": [
  {
   "cell_type": "code",
   "execution_count": 48,
   "id": "nonprofit-smoke",
   "metadata": {},
   "outputs": [],
   "source": [
    "import numpy as np\n",
    "import matplotlib.pyplot as plt\n",
    "from matplotlib import animation\n",
    "from celluloid import Camera\n",
    "import seaborn as sns\n",
    "sns.set_theme()\n",
    "from IPython.display import HTML"
   ]
  },
  {
   "cell_type": "code",
   "execution_count": 2,
   "id": "romantic-thomson",
   "metadata": {},
   "outputs": [],
   "source": [
    "def Lorenz96(x0, F):\n",
    "    x = np.zeros(x0.shape[0]+3)\n",
    "    # 周期的なxの表現をつくる\n",
    "    x[2:-1] = x0 # index 2がもとのxのindex 0, index -2がもとのxのN\n",
    "    x[:2] = x0[-2:] # index 0,1 がもとのxのindex N-1, N\n",
    "    x[-1] = x0[0] # index -1 がもとのxのindex 0\n",
    "    \n",
    "    dxdt = (x[3:] - x[:-3]) * x[1:-2] - x[2:-1] + F\n",
    "    return dxdt\n",
    "\n",
    "def L96(x, F):\n",
    "    \"\"\"\n",
    "    Lorenz 96 model with constant forcing.\n",
    "    Cited by \"https://en.wikipedia.org/wiki/Lorenz_96_model\"\n",
    "    \n",
    "    Parameters\n",
    "    ----------\n",
    "    x : \n",
    "        variables\n",
    "    F :\n",
    "       Forcing constant \n",
    "    N : int\n",
    "        number of sites\n",
    "    \"\"\"\n",
    "    N = len(x)\n",
    "    # Setting up vector\n",
    "    d = np.zeros(N)\n",
    "    # Loops over indices (with operations and Python underflow indexing handling edge cases)\n",
    "    for i in range(N):\n",
    "        d[i] = (x[(i + 1) % N] - x[i - 2]) * x[i - 1] - x[i] + F\n",
    "    return d"
   ]
  },
  {
   "cell_type": "code",
   "execution_count": 3,
   "id": "distinct-monitor",
   "metadata": {},
   "outputs": [],
   "source": [
    "def RK4_yield(initial, time, model, F) -> np.ndarray:\n",
    "    \"\"\"\n",
    "    各時刻のRK4の結果をリターンするgenerator function\n",
    "    \n",
    "    Parameters\n",
    "    ----------    \n",
    "    F :\n",
    "        Forcing constant, to be used in Lorenz96\n",
    "    kwargs : \n",
    "        modelに渡す x 以外の変数を指定\n",
    "        \n",
    "    Return\n",
    "    ----------\n",
    "    generator\n",
    "    \"\"\"\n",
    "    dt = time[1] - time[0]\n",
    "    states = [initial]\n",
    "    x = initial\n",
    "    for i, t in enumerate(time[:-1]):\n",
    "        if i == 0:\n",
    "            yield x\n",
    "        k1 = model(x, F)\n",
    "        x1 = x + k1 * dt/2\n",
    "        k2 = model(x1, F)\n",
    "        x2 = x + k2 * dt/2\n",
    "        k3 = model(x2, F)\n",
    "        x3 = x + k3 * dt\n",
    "        k4 = model(x3, F)\n",
    "        x = x + (k1 + 2*k2 + 2*k3 + k4) * dt / 6\n",
    "        yield x"
   ]
  },
  {
   "cell_type": "markdown",
   "id": "democratic-market",
   "metadata": {},
   "source": [
    "# アニメーション"
   ]
  },
  {
   "cell_type": "markdown",
   "id": "macro-stock",
   "metadata": {},
   "source": [
    "## F=8での挙動"
   ]
  },
  {
   "cell_type": "code",
   "execution_count": 16,
   "id": "applicable-brooklyn",
   "metadata": {},
   "outputs": [],
   "source": [
    "# init\n",
    "time = np.arange(0.0, 0.61, 0.05)\n",
    "N = 40\n",
    "F = 8.0\n",
    "x1 = np.full(N, F)\n",
    "x1[19] += F * 0.001"
   ]
  },
  {
   "cell_type": "code",
   "execution_count": 64,
   "id": "asian-shame",
   "metadata": {},
   "outputs": [
    {
     "data": {
      "application/vnd.jupyter.widget-view+json": {
       "model_id": "475a5170cb8c4f22b8cb18f947a0988f",
       "version_major": 2,
       "version_minor": 0
      },
      "text/plain": [
       "Canvas(toolbar=Toolbar(toolitems=[('Home', 'Reset original view', 'home', 'home'), ('Back', 'Back to previous …"
      ]
     },
     "metadata": {},
     "output_type": "display_data"
    }
   ],
   "source": [
    "\"\"\"\n",
    "matplotlib.animation.ArtistAnimationのラッパーcelluloidでアニメーションを作る\n",
    "\n",
    "celluloid : https://github.com/jwkvam/celluloid\n",
    "matplotlib.animation.ArtistAnimation : https://matplotlib.org/stable/api/_as_gen/matplotlib.animation.ArtistAnimation.html#matplotlib.animation.ArtistAnimation\n",
    "\"\"\"\n",
    "%matplotlib widget\n",
    "fig = plt.figure()\n",
    "camera = Camera(fig)\n",
    "cnt = 0\n",
    "for x in RK4_yield(x1, time, L96, F):\n",
    "    t = plt.plot(x, color=\"green\")\n",
    "    plt.legend(t, [f'{cnt} unit time'], loc='upper left')\n",
    "    cnt += 1\n",
    "    camera.snap()\n",
    "animation = camera.animate(interval=300, blit=True)"
   ]
  },
  {
   "cell_type": "code",
   "execution_count": 58,
   "id": "polished-richards",
   "metadata": {},
   "outputs": [],
   "source": [
    "# save animation as gif\n",
    "# animation.save('celluloid_subplots.gif', writer='pillow')"
   ]
  }
 ],
 "metadata": {
  "kernelspec": {
   "display_name": "Python 3",
   "language": "python",
   "name": "python3"
  },
  "language_info": {
   "codemirror_mode": {
    "name": "ipython",
    "version": 3
   },
   "file_extension": ".py",
   "mimetype": "text/x-python",
   "name": "python",
   "nbconvert_exporter": "python",
   "pygments_lexer": "ipython3",
   "version": "3.9.0"
  }
 },
 "nbformat": 4,
 "nbformat_minor": 5
}
