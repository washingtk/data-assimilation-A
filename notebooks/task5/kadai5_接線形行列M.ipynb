{
 "cells": [
  {
   "cell_type": "code",
   "execution_count": 2,
   "id": "fossil-extension",
   "metadata": {},
   "outputs": [],
   "source": [
    "#\n",
    "#official package\n",
    "#\n",
    "import numpy as np\n",
    "import seaborn as sns\n",
    "import matplotlib.pyplot as plt\n",
    "\n",
    "\n",
    "#\n",
    "# lorenz 96 model by fortran\n",
    "#\n",
    "\"\"\"\n",
    "f2py -c -m fortran_model model_time_step.f90で共有ファイル(.so)を作成\n",
    "Fortran プログラムを Pythonで利用する\n",
    "(python version 3.8)\n",
    "\"\"\"\n",
    "import fortran_model as FModel"
   ]
  },
  {
   "cell_type": "markdown",
   "id": "laden-material",
   "metadata": {},
   "source": [
    "### Fmodel の引数の確認"
   ]
  },
  {
   "cell_type": "code",
   "execution_count": 3,
   "id": "sacred-melbourne",
   "metadata": {
    "scrolled": true
   },
   "outputs": [
    {
     "name": "stdout",
     "output_type": "stream",
     "text": [
      "'d'-scalar\n",
      "'d'-scalar\n",
      "p_out = model_right_term(p_in,[n])\n",
      "\n",
      "Wrapper for ``model_right_term``.\n",
      "\n",
      "Parameters\n",
      "----------\n",
      "p_in : input rank-1 array('d') with bounds (n)\n",
      "\n",
      "Other Parameters\n",
      "----------------\n",
      "n : input int, optional\n",
      "    Default: len(p_in)\n",
      "\n",
      "Returns\n",
      "-------\n",
      "p_out : rank-1 array('d') with bounds (n)\n",
      "x_out = runge_kutta_method(x_in,[n])\n",
      "\n",
      "Wrapper for ``runge_kutta_method``.\n",
      "\n",
      "Parameters\n",
      "----------\n",
      "x_in : input rank-1 array('d') with bounds (n)\n",
      "\n",
      "Other Parameters\n",
      "----------------\n",
      "n : input int, optional\n",
      "    Default: len(x_in)\n",
      "\n",
      "Returns\n",
      "-------\n",
      "x_out : rank-1 array('d') with bounds (n)\n",
      "mm = kf_matrix_get_m(x_init,t_step,alpha,[n])\n",
      "\n",
      "Wrapper for ``kf_matrix_get_m``.\n",
      "\n",
      "Parameters\n",
      "----------\n",
      "x_init : input rank-1 array('d') with bounds (n)\n",
      "t_step : input int\n",
      "alpha : input float\n",
      "\n",
      "Other Parameters\n",
      "----------------\n",
      "n : input int, optional\n",
      "    Default: len(x_init)\n",
      "\n",
      "Returns\n",
      "-------\n",
      "mm : rank-2 array('d') with bounds (n,n)\n",
      "\n"
     ]
    }
   ],
   "source": [
    "print(FModel.lorenz_model.__doc__)"
   ]
  },
  {
   "cell_type": "markdown",
   "id": "guilty-burst",
   "metadata": {},
   "source": [
    "## Lorenz 96 model\n",
    "- NN: 変数ベクトルXの次元 (通常40)\n",
    "- FF: 外力\n",
    "- dt: モデルの１積分時間\n",
    "\n",
    "FF, dt はFortranプログラムの中で定義されており書き換えはできないことに注意"
   ]
  },
  {
   "cell_type": "code",
   "execution_count": 4,
   "id": "numerous-broadcasting",
   "metadata": {},
   "outputs": [
    {
     "name": "stdout",
     "output_type": "stream",
     "text": [
      "初期値 X0 =\n",
      "[8.   8.   8.   8.   8.   8.   8.   8.   8.   8.   8.   8.   8.   8.\n",
      " 8.   8.   8.   8.   8.   8.08 8.   8.   8.   8.   8.   8.   8.   8.\n",
      " 8.   8.   8.   8.   8.   8.   8.   8.   8.   8.   8.   8.  ]\n",
      "XX =\n",
      "[-0.3872175  -1.33058325  5.46683401  3.80535761 -2.48410819  2.43179988\n",
      "  6.92025273 -5.22766098 -0.29894255  1.05323256  4.27435197  8.09364269\n",
      "  0.04964911 -1.0032037   2.5989576   5.82325104 -0.92156635 -2.88815275\n",
      "  0.15206707  2.2693181   7.1402882  -0.65889619 -1.25073055  0.69132582\n",
      " -1.45871217  0.754673   10.24855452  5.76276533  3.75469751  4.96874855\n",
      "  3.5307819   0.98523229 -5.07164707  5.84708415  2.40041495  2.00469413\n",
      "  9.25834708  2.23924377 -1.10619949 -1.07705475]\n"
     ]
    }
   ],
   "source": [
    "#\n",
    "#モデルの変数\n",
    "#\n",
    "NN = 40\n",
    "FF = 8.0\n",
    "dt = 0.01\n",
    "\n",
    "#\n",
    "#初期値\n",
    "#\n",
    "XX_IN = np.ones(NN, dtype=np.float64)*FF\n",
    "XX_IN[19] = FF + FF/100\n",
    "print(\"初期値 X0 =\\n{}\".format(XX_IN))\n",
    "\n",
    "#\n",
    "#作業変数\n",
    "#\n",
    "XX_OUT = np.zeros_like(XX_IN, dtype=np.float64)\n",
    "\n",
    "#\n",
    "#時間発展\n",
    "#\n",
    "for idx_time in range(10000):\n",
    "    XX_OUT = FModel.lorenz_model.runge_kutta_method(XX_IN,NN)\n",
    "    XX_IN = XX_OUT\n",
    "print(\"XX =\\n{}\".format(XX_IN))"
   ]
  },
  {
   "cell_type": "markdown",
   "id": "noted-terror",
   "metadata": {},
   "source": [
    "## 接線形行列の計算\n",
    "### FModel.lorenz_model.kf_matrix_get_m( XX_IN,  assim_step, alpha)\n",
    "- XX_IN:       １ステップ前のデータ同化の解析値ベクトル(40変数)\n",
    "- assim_step:  １データ同化においての時間積分回数(6時間に一回の場合は4)\n",
    "- alpha:       解析値ベクトルに与える摂動の大きさ(1e-3~1e-N 程度に変化させて行列Mが十分収束しておけばよい)"
   ]
  },
  {
   "cell_type": "code",
   "execution_count": 9,
   "id": "corresponding-accordance",
   "metadata": {},
   "outputs": [
    {
     "name": "stdout",
     "output_type": "stream",
     "text": [
      "MM shape :(40, 40)\n"
     ]
    }
   ],
   "source": [
    "assim_step = 2\n",
    "alpha = 1e-4\n",
    "\n",
    "MM = FModel.lorenz_model.kf_matrix_get_m(XX_IN, assim_step, alpha)\n",
    "print(\"MM shape :{}\".format(MM.shape))"
   ]
  },
  {
   "cell_type": "markdown",
   "id": "pediatric-georgia",
   "metadata": {},
   "source": [
    "## 行列の可視化\n",
    "- 誤差の発達は対角成分の寄与を受けることがわかる\n",
    "- $$\n",
    "P^f_n = M P^a_{n-1} M^T\n",
    "$$"
   ]
  },
  {
   "cell_type": "code",
   "execution_count": 10,
   "id": "directed-japan",
   "metadata": {},
   "outputs": [
    {
     "data": {
      "image/png": "[encoded data removed]",
      "text/plain": [
       "<Figure size 720x720 with 2 Axes>"
      ]
     },
     "metadata": {
      "needs_background": "light"
     },
     "output_type": "display_data"
    }
   ],
   "source": [
    "fs = 18\n",
    "\n",
    "plt.figure(figsize=(10,10))\n",
    "plt.title(\"matrix M\\n$(M_{1,j}, \\cdots, M_{40,j})^T = ( M(x^a + \\\\alpha x^{'}) - M(x^a) )/\\\\alpha \\ \\ (x^{'}_j=1, other =0)$\", fontsize=fs)\n",
    "sns.heatmap(MM, cmap=\"seismic\", vmin=-1.5, vmax=1.5)\n",
    "plt.xlabel(\"Column\", fontsize=fs)\n",
    "plt.ylabel(\"Row\", fontsize=fs)\n",
    "plt.grid()\n",
    "plt.show()"
   ]
  },
  {
   "cell_type": "code",
   "execution_count": null,
   "id": "parallel-punishment",
   "metadata": {},
   "outputs": [],
   "source": []
  }
 ],
 "metadata": {
  "kernelspec": {
   "display_name": "Python 3",
   "language": "python",
   "name": "python3"
  },
  "language_info": {
   "codemirror_mode": {
    "name": "ipython",
    "version": 3
   },
   "file_extension": ".py",
   "mimetype": "text/x-python",
   "name": "python",
   "nbconvert_exporter": "python",
   "pygments_lexer": "ipython3",
   "version": "3.8.8"
  }
 },
 "nbformat": 4,
 "nbformat_minor": 5
}
