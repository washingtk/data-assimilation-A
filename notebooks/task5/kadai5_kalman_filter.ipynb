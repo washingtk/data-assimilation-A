{
 "cells": [
  {
   "cell_type": "code",
   "execution_count": 59,
   "id": "pediatric-webcam",
   "metadata": {},
   "outputs": [],
   "source": [
    "#\n",
    "#official package\n",
    "#\n",
    "import numpy as np\n",
    "import seaborn as sns\n",
    "import matplotlib.pyplot as plt\n",
    "from numpy.random import Generator, MT19937\n",
    "\n",
    "\n",
    "#\n",
    "# lorenz 96 model by fortran\n",
    "#\n",
    "\"\"\"\n",
    "f2py -c -m fortran_model model_time_step.f90で共有ファイル(.so)を作成\n",
    "Fortran プログラムを Pythonで利用する\n",
    "(python version 3.8)\n",
    "\"\"\"\n",
    "import fortran_model as FModel"
   ]
  },
  {
   "cell_type": "markdown",
   "id": "demanding-particular",
   "metadata": {},
   "source": [
    "### Fmodel の引数の確認"
   ]
  },
  {
   "cell_type": "code",
   "execution_count": 60,
   "id": "biblical-folder",
   "metadata": {
    "scrolled": true
   },
   "outputs": [
    {
     "name": "stdout",
     "output_type": "stream",
     "text": [
      "'d'-scalar\n",
      "'d'-scalar\n",
      "p_out = model_right_term(p_in,[n])\n",
      "\n",
      "Wrapper for ``model_right_term``.\n",
      "\n",
      "Parameters\n",
      "----------\n",
      "p_in : input rank-1 array('d') with bounds (n)\n",
      "\n",
      "Other Parameters\n",
      "----------------\n",
      "n : input int, optional\n",
      "    Default: len(p_in)\n",
      "\n",
      "Returns\n",
      "-------\n",
      "p_out : rank-1 array('d') with bounds (n)\n",
      "x_out = runge_kutta_method(x_in,[n])\n",
      "\n",
      "Wrapper for ``runge_kutta_method``.\n",
      "\n",
      "Parameters\n",
      "----------\n",
      "x_in : input rank-1 array('d') with bounds (n)\n",
      "\n",
      "Other Parameters\n",
      "----------------\n",
      "n : input int, optional\n",
      "    Default: len(x_in)\n",
      "\n",
      "Returns\n",
      "-------\n",
      "x_out : rank-1 array('d') with bounds (n)\n",
      "mm = kf_matrix_get_m(x_init,t_step,alpha,[n])\n",
      "\n",
      "Wrapper for ``kf_matrix_get_m``.\n",
      "\n",
      "Parameters\n",
      "----------\n",
      "x_init : input rank-1 array('d') with bounds (n)\n",
      "t_step : input int\n",
      "alpha : input float\n",
      "\n",
      "Other Parameters\n",
      "----------------\n",
      "n : input int, optional\n",
      "    Default: len(x_init)\n",
      "\n",
      "Returns\n",
      "-------\n",
      "mm : rank-2 array('d') with bounds (n,n)\n",
      "\n"
     ]
    }
   ],
   "source": [
    "print(FModel.lorenz_model.__doc__)"
   ]
  },
  {
   "cell_type": "markdown",
   "id": "differential-spyware",
   "metadata": {},
   "source": [
    "## Lorenz 96 model\n",
    "- NN: 変数ベクトルXの次元 (通常40)\n",
    "- FF: 外力\n",
    "- dt: モデルの１積分時間\n",
    "\n",
    "FF, dt はFortranプログラムの中で定義されており書き換えはできないことに注意"
   ]
  },
  {
   "cell_type": "code",
   "execution_count": 20,
   "id": "knowing-rainbow",
   "metadata": {},
   "outputs": [
    {
     "name": "stdout",
     "output_type": "stream",
     "text": [
      "time step 1day:20\n",
      "time step 1year:7300\n",
      "\n",
      "初期値 X0 =\n",
      "[8.    8.    8.    8.    8.    8.    8.    8.    8.    8.    8.    8.\n",
      " 8.    8.    8.    8.    8.    8.    8.    8.008 8.    8.    8.    8.\n",
      " 8.    8.    8.    8.    8.    8.    8.    8.    8.    8.    8.    8.\n",
      " 8.    8.    8.    8.   ]\n",
      "\n",
      "XX =\n",
      "[-3.90380328  1.7487763   3.60908351  4.84378415  2.06333088 -2.97072136\n",
      "  1.80892982  4.36721546  5.91411737 -3.94056404 -1.21157625  1.51993115\n",
      "  1.98580203  9.111064    1.97504058 -3.45502749  1.67867415  2.1374675\n",
      "  6.59182148 -3.00876163 -2.35779272 -3.67688229  3.98047531  8.21987869\n",
      " -0.94703903  4.53089987  1.24828117 -0.39319517  1.41696151  9.06749876\n",
      "  0.81474818 -4.42618128  0.45601611  3.23908588  7.38666433 -0.24708298\n",
      " -1.65579636  2.40499248  8.01116961  1.01051069]\n"
     ]
    }
   ],
   "source": [
    "#\n",
    "#モデルの変数\n",
    "#\n",
    "NN = 40\n",
    "FF = 8.0\n",
    "dt = 0.01\n",
    "\n",
    "#\n",
    "#時間単位\n",
    "#\n",
    "\"\"\"\n",
    "tstep_1d: 1日の積分回数\n",
    "tstep_1y: 1年の積分回数\n",
    "\"\"\"\n",
    "tstep_1d = int(0.2/dt)\n",
    "tstep_1y = int(365*tstep_1d)\n",
    "print(\"time step 1day:{}\".format(tstep_1d))\n",
    "print(\"time step 1year:{}\".format(tstep_1y))\n",
    "print()\n",
    "\n",
    "#\n",
    "#初期値\n",
    "#\n",
    "XX_IN = np.ones(NN, dtype=np.float64)*FF\n",
    "XX_IN[19] = FF + FF/1000\n",
    "print(\"初期値 X0 =\\n{}\".format(XX_IN))\n",
    "print()\n",
    "\n",
    "#\n",
    "#作業変数\n",
    "#\n",
    "XX_OUT = np.zeros_like(XX_IN, dtype=np.float64)\n",
    "\n",
    "#\n",
    "#時間発展 1年間\n",
    "#\n",
    "for idx_time in range(tstep_1y):\n",
    "    XX_OUT = FModel.lorenz_model.runge_kutta_method(XX_IN,NN)\n",
    "    XX_IN = XX_OUT\n",
    "print(\"XX =\\n{}\".format(XX_IN))"
   ]
  },
  {
   "cell_type": "markdown",
   "id": "realistic-dimension",
   "metadata": {},
   "source": [
    "### データ同化のパラメータ\n",
    "- tstep_assim: データ同化のステップ間隔\n",
    "- alpha_m:     接線形モデルを計算する際のパラメータ\n",
    "- alpha:       共分散膨張係数\n",
    "- sigma_obs:   観測誤差\n",
    "- RR:          観測誤差共分散行列\n",
    "- PA:          解析誤差共分散行列\n",
    "- PF:          予報誤差共分散行列\n",
    "- HH:          観測モデル\n",
    "- XF:          予報値\n",
    "- XA:          解析値\n",
    "- XT:          真析値\n",
    "- YY:          観測値"
   ]
  },
  {
   "cell_type": "code",
   "execution_count": 70,
   "id": "trying-wilson",
   "metadata": {},
   "outputs": [],
   "source": [
    "assim_step = 2\n",
    "alpha_m = 1e-4\n",
    "alpha = 1.2\n",
    "sigma_obs = 1.0\n",
    "\n",
    "RR = sigma_obs*np.eye(NN)\n",
    "PA = 100*np.eye(NN)\n",
    "PF = np.empty_like(PA)\n",
    "HH = np.eye(NN)\n",
    "\n",
    "XA = XX_IN + np.random.normal(0,10,NN)\n",
    "XT = XX_IN\n",
    "\n",
    "#\n",
    "#graphic paraemeter\n",
    "#\n",
    "cmap = plt.get_cmap(\"tab10\")\n",
    "fs = 16\n",
    "msize = 10"
   ]
  },
  {
   "cell_type": "code",
   "execution_count": 71,
   "id": "respective-action",
   "metadata": {},
   "outputs": [
    {
     "data": {
      "image/png": "[encoded data removed]",
      "text/plain": [
       "<Figure size 432x288 with 1 Axes>"
      ]
     },
     "metadata": {
      "needs_background": "light"
     },
     "output_type": "display_data"
    }
   ],
   "source": [
    "for idx_assim in range(100):\n",
    "    #\n",
    "    #予報値の初期値\n",
    "    #\n",
    "    XF = XA\n",
    "    #\n",
    "    #予報値の時間発展\n",
    "    #\n",
    "    for idx_time in range(assim_step):\n",
    "        XF = FModel.lorenz_model.runge_kutta_method(XF,NN)\n",
    "    #\n",
    "    #真値の時間発展\n",
    "    #\n",
    "    for idx_time in range(assim_step):\n",
    "        XT = FModel.lorenz_model.runge_kutta_method(XT,NN)\n",
    "    #\n",
    "    #観測値\n",
    "    #\n",
    "    YY = XT + np.random.normal(0,sigma_obs,NN)\n",
    "    #\n",
    "    #接線形行列Mの計算\n",
    "    #\n",
    "    MM = FModel.lorenz_model.kf_matrix_get_m(XA, assim_step, alpha_m)\n",
    "    #\n",
    "    #予報誤差共分散行列\n",
    "    #\n",
    "    PF = MM * PA * MM.T\n",
    "    #\n",
    "    #共分散膨張\n",
    "    #\n",
    "    PF = alpha * PF\n",
    "    #\n",
    "    #カルマンゲイン\n",
    "    #\n",
    "    TMP = HH * PF * HH.T + RR\n",
    "    KK = PF * HH.T * np.linalg.inv(TMP)\n",
    "    #\n",
    "    #解析値\n",
    "    #\n",
    "    INOV = YY - HH * XF\n",
    "    XA = XF + KK @ ( YY - HH @ XF )\n",
    "    #\n",
    "    #解析誤差共分散行列\n",
    "    #\n",
    "    PA = PF - KK * HH * PF\n",
    "    \n",
    "    #\n",
    "    #figure\n",
    "    #\n",
    "    plt.scatter(idx_assim, YY[0], color=cmap(0), s=msize)\n",
    "    plt.scatter(idx_assim, XF[0], color=cmap(1), s=msize)\n",
    "    plt.scatter(idx_assim, XA[0], color=cmap(2), s=msize)\n",
    "    plt.scatter(idx_assim, XT[0], color=cmap(3), s=msize)\n",
    "plt.scatter(idx_assim, YY[0], color=cmap(0), label=\"$Y^o$\", s=msize)\n",
    "plt.scatter(idx_assim, XF[0], color=cmap(1), label=\"$X^f$\", s=msize)\n",
    "plt.scatter(idx_assim, XA[0], color=cmap(2), label=\"$X^a$\", s=msize)\n",
    "plt.scatter(idx_assim, XT[0], color=cmap(3), label=\"$X^t$\", s=msize)\n",
    "plt.grid()\n",
    "plt.legend(fontsize=fs-4)\n",
    "plt.show()"
   ]
  }
 ],
 "metadata": {
  "kernelspec": {
   "display_name": "Python 3",
   "language": "python",
   "name": "python3"
  },
  "language_info": {
   "codemirror_mode": {
    "name": "ipython",
    "version": 3
   },
   "file_extension": ".py",
   "mimetype": "text/x-python",
   "name": "python",
   "nbconvert_exporter": "python",
   "pygments_lexer": "ipython3",
   "version": "3.8.8"
  }
 },
 "nbformat": 4,
 "nbformat_minor": 5
}
